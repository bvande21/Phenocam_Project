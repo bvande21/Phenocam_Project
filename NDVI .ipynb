{
 "cells": [
  {
   "cell_type": "code",
   "execution_count": null,
   "metadata": {
    "collapsed": true
   },
   "outputs": [],
   "source": [
    "# calculates NDVI from photo"
   ]
  },
  {
   "cell_type": "code",
   "execution_count": 179,
   "metadata": {
    "collapsed": false
   },
   "outputs": [],
   "source": [
    "%matplotlib inline\n",
    "import pandas as pd\n",
    "import xarray as xr\n",
    "import numpy as np\n",
    "import numpy.ma as ma\n",
    "import matplotlib.pyplot as plt\n",
    "from PIL import Image\n",
    "import requests\n",
    "from io import BytesIO\n",
    "import glob\n",
    "import math\n",
    "import scipy\n",
    "import sklearn\n",
    "import pytesseract \n",
    "import png"
   ]
  },
  {
   "cell_type": "code",
   "execution_count": 180,
   "metadata": {
    "collapsed": false
   },
   "outputs": [],
   "source": [
    "# shows visual photo\n",
    "\n",
    "vis_photo = 'https://phenocam.sr.unh.edu/data/archive/bozeman/2017/06/bozeman_2017_06_08_184805.jpg'\n",
    "response = requests.get(vis_photo)\n",
    "VIS_img = Image.open(BytesIO(response.content))\n",
    "vis_img_exp = vis_slice"
   ]
  },
  {
   "cell_type": "code",
   "execution_count": 182,
   "metadata": {
    "collapsed": false
   },
   "outputs": [],
   "source": [
    "# finds all pixel values for visual image\n",
    "\n",
    "width, height = VIS_img.size\n",
    "vis_pixel_values = list(VIS_img.getdata())\n",
    "vis_pixel_values = np.array(vis_pixel_values).reshape((width, height, 3))"
   ]
  },
  {
   "cell_type": "code",
   "execution_count": 183,
   "metadata": {
    "collapsed": false
   },
   "outputs": [],
   "source": [
    "# IR photo\n",
    "\n",
    "ir_photo = 'https://phenocam.sr.unh.edu/data/archive/bozeman/2017/06/bozeman_IR_2017_06_08_201805.jpg'\n",
    "response = requests.get(ir_photo)\n",
    "IR_img = Image.open(BytesIO(response.content))\n",
    "IR_img_exp = ir_slice"
   ]
  },
  {
   "cell_type": "code",
   "execution_count": 184,
   "metadata": {
    "collapsed": false
   },
   "outputs": [],
   "source": [
    "# finds all pixel values for IR image\n",
    "\n",
    "width, height = IR_img.size\n",
    "IR_pixel_values = list(IR_img.getdata())\n",
    "IR_pixel_values = np.array(IR_pixel_values).reshape((width, height, 3))\n"
   ]
  },
  {
   "cell_type": "code",
   "execution_count": null,
   "metadata": {
    "collapsed": true
   },
   "outputs": [],
   "source": []
  },
  {
   "cell_type": "code",
   "execution_count": 185,
   "metadata": {
    "collapsed": false
   },
   "outputs": [],
   "source": [
    "# calculating all red values \n",
    "\n",
    "x=0\n",
    "y=0\n",
    "width,height = VIS_img.size\n",
    "red_array = np.zeros((width,height))\n",
    "for x in range (width):\n",
    "    for y in range (height):\n",
    "        red_array[x,y] = vis_pixel_values[x,y,0]"
   ]
  },
  {
   "cell_type": "code",
   "execution_count": 223,
   "metadata": {
    "collapsed": false
   },
   "outputs": [
    {
     "data": {
      "text/plain": [
       "array([[  7.05815911,   7.05815911,   7.05815911, ...,  20.22281544,\n",
       "         20.22281544,  20.22281544],\n",
       "       [ 20.22281544,  20.22281544,  20.22281544, ...,   7.05815911,\n",
       "          7.05815911,   7.05815911],\n",
       "       [  7.45468491,   7.93051586,   7.13746427, ...,   6.8995488 ,\n",
       "          6.82024364,   7.05815911],\n",
       "       ..., \n",
       "       [  5.63066626,   5.31344562,   5.86858173, ...,   9.7545345 ,\n",
       "          9.19939839,  10.54758609],\n",
       "       [  8.56495713,   8.00982102,  10.86480672, ...,   6.10649721,\n",
       "          7.93051586,  10.54758609],\n",
       "       [ 11.34063768,  10.70619641,   8.88217776, ...,   6.26510753,\n",
       "          6.503023  ,   5.86858173]])"
      ]
     },
     "execution_count": 223,
     "metadata": {},
     "output_type": "execute_result"
    }
   ],
   "source": [
    "# finding r'\n",
    "\n",
    "r_prime = red_array/math.sqrt(vis_slice)\n",
    "r_prime"
   ]
  },
  {
   "cell_type": "code",
   "execution_count": 187,
   "metadata": {
    "collapsed": false
   },
   "outputs": [],
   "source": [
    "# calculating all green values \n",
    "\n",
    "x=0\n",
    "y=0\n",
    "width,height = VIS_img.size\n",
    "green_array = np.zeros((width,height))\n",
    "for x in range (width):\n",
    "    for y in range (height):\n",
    "        green_array[x,y] = vis_pixel_values[x,y,1]"
   ]
  },
  {
   "cell_type": "code",
   "execution_count": 188,
   "metadata": {
    "collapsed": false
   },
   "outputs": [],
   "source": [
    "# calculating all blue values\n",
    "\n",
    "x=0\n",
    "y=0\n",
    "width,height = VIS_img.size\n",
    "blue_array = np.zeros((width,height))\n",
    "for x in range (width):\n",
    "    for y in range (height):\n",
    "        blue_array[x,y] = vis_pixel_values[x,y,2]"
   ]
  },
  {
   "cell_type": "code",
   "execution_count": 189,
   "metadata": {
    "collapsed": false
   },
   "outputs": [],
   "source": [
    "# calculating all IR values\n",
    "\n",
    "x=0\n",
    "y=0\n",
    "width,height = IR_img.size\n",
    "IR_array = np.zeros((width,height))\n",
    "for x in range (width):\n",
    "    for y in range (height):\n",
    "        IR_array[x,y] = IR_pixel_values[x,y,0]"
   ]
  },
  {
   "cell_type": "code",
   "execution_count": null,
   "metadata": {
    "collapsed": true
   },
   "outputs": [],
   "source": []
  },
  {
   "cell_type": "code",
   "execution_count": 220,
   "metadata": {
    "collapsed": false
   },
   "outputs": [
    {
     "data": {
      "text/plain": [
       "array([[  8.49892029,   8.49892029,   8.52027436, ...,  21.78115251,\n",
       "         21.78115251,  21.78115251],\n",
       "       [ 21.78115251,  21.78115251,  21.78115251, ...,   8.52027436,\n",
       "          8.52027436,   8.52027436],\n",
       "       [  8.99006393,   9.50256163,   8.64839879, ...,   8.39214994,\n",
       "          8.32808772,   8.58433658],\n",
       "       ..., \n",
       "       [  4.91143635,   5.01820671,   5.03956078, ...,   8.37079587,\n",
       "          7.94371444,   9.09683428],\n",
       "       [  8.07183887,   7.66611152,   9.39579128, ...,   6.34215911,\n",
       "          7.83694409,   9.90828898],\n",
       "       [ 10.76245183,   9.78016456,   8.1999633 , ...,   5.63747477,\n",
       "          5.76559919,   5.23174742]])"
      ]
     },
     "execution_count": 220,
     "metadata": {},
     "output_type": "execute_result"
    }
   ],
   "source": [
    "# finding z'\n",
    "\n",
    "z = (red_array + green_array + blue_array) + IR_array\n",
    "\n",
    "z_prime = z/math.sqrt(ir_slice)\n",
    "z_prime"
   ]
  },
  {
   "cell_type": "code",
   "execution_count": 221,
   "metadata": {
    "collapsed": false
   },
   "outputs": [
    {
     "data": {
      "text/plain": [
       "array([[ 2.05041791,  2.05041791,  2.0425169 , ...,  5.44528813,\n",
       "         5.44528813,  5.44528813],\n",
       "       [ 5.44528813,  5.44528813,  5.44528813, ...,  2.0425169 ,\n",
       "         2.0425169 ,  2.0425169 ],\n",
       "       [ 2.15398515,  2.28210958,  2.06856887, ...,  2.00450665,\n",
       "         1.98550153,  2.04956374],\n",
       "       ..., \n",
       "       [ 1.37328031,  1.28786403,  1.40744683, ...,  2.32951561,\n",
       "         2.18003712,  2.53835843],\n",
       "       [ 2.09803748,  1.94855899,  2.71260765, ...,  1.55500346,\n",
       "         2.05639705,  2.76108139],\n",
       "       [ 2.93127334,  2.75574287,  2.26459924, ...,  1.5379202 ,\n",
       "         1.58553978,  1.40766037]])"
      ]
     },
     "execution_count": 221,
     "metadata": {},
     "output_type": "execute_result"
    }
   ],
   "source": [
    "# finding y'\n",
    "\n",
    "y_array = 0.30*red_array + 0.59*green_array + 0.11*blue_array\n",
    "y_prime = y_array/math.sqrt(ir_slice)\n",
    "y_prime"
   ]
  },
  {
   "cell_type": "code",
   "execution_count": 222,
   "metadata": {
    "collapsed": false
   },
   "outputs": [
    {
     "data": {
      "text/plain": [
       "array([[  6.44850239,   6.44850239,   6.47775746, ...,  16.33586438,\n",
       "         16.33586438,  16.33586438],\n",
       "       [ 16.33586438,  16.33586438,  16.33586438, ...,   6.47775746,\n",
       "          6.47775746,   6.47775746],\n",
       "       [  6.83607878,   7.22045206,   6.57982992, ...,   6.38764328,\n",
       "          6.34258619,   6.53477283],\n",
       "       ..., \n",
       "       [  3.53815604,   3.73034268,   3.63211395, ...,   6.04128025,\n",
       "          5.76367733,   6.55847585],\n",
       "       [  5.97380139,   5.71755253,   6.68318363, ...,   4.78715566,\n",
       "          5.78054704,   7.14720759],\n",
       "       [  7.83117849,   7.02442168,   5.93536406, ...,   4.09955457,\n",
       "          4.18005942,   3.82408705]])"
      ]
     },
     "execution_count": 222,
     "metadata": {},
     "output_type": "execute_result"
    }
   ],
   "source": [
    "# finding x'   X′ = Z′ −Y′   z'=z/sqrt(exposure of RGB+IR)\n",
    "\n",
    "x_prime = z_prime - y_prime\n",
    "x_prime"
   ]
  },
  {
   "cell_type": "code",
   "execution_count": 235,
   "metadata": {
    "collapsed": false
   },
   "outputs": [
    {
     "data": {
      "text/plain": [
       "array([[-0.04513748, -0.04513748, -0.04287864, ..., -0.10632088,\n",
       "        -0.10632088, -0.10632088],\n",
       "       [-0.10632088, -0.10632088, -0.10632088, ..., -0.04287864,\n",
       "        -0.04287864, -0.04287864],\n",
       "       [-0.04328713, -0.0468659 , -0.04065192, ..., -0.03852624,\n",
       "        -0.03628836, -0.0385043 ],\n",
       "       ..., \n",
       "       [-0.22822017, -0.17504865, -0.23540042, ..., -0.23507836,\n",
       "        -0.22961329, -0.23319863],\n",
       "       [-0.178224  , -0.16698522, -0.23829641, ..., -0.12111103,\n",
       "        -0.15680541, -0.1921683 ],\n",
       "       [-0.18305304, -0.20765067, -0.19887332, ..., -0.20893619,\n",
       "        -0.2174432 , -0.21093207]])"
      ]
     },
     "execution_count": 235,
     "metadata": {},
     "output_type": "execute_result"
    }
   ],
   "source": [
    "# camera NDVI\n",
    "\n",
    "np.seterr(divide='ignore', invalid='ignore')\n",
    "camera_ndvi = ((x_prime-r_prime)/(x_prime+r_prime))\n",
    "camera_ndvi"
   ]
  },
  {
   "cell_type": "code",
   "execution_count": 194,
   "metadata": {
    "collapsed": false
   },
   "outputs": [
    {
     "data": {
      "image/png": "[encoded data removed]",
      "text/plain": [
       "<PIL.Image.Image image mode=RGB size=62x27 at 0x1239F2908>"
      ]
     },
     "execution_count": 194,
     "metadata": {},
     "output_type": "execute_result"
    }
   ],
   "source": [
    "vis_img_exp = VIS_img.crop((118, 58, 180, 85))\n",
    "vis_img_exp"
   ]
  },
  {
   "cell_type": "code",
   "execution_count": 195,
   "metadata": {
    "collapsed": false
   },
   "outputs": [
    {
     "data": {
      "image/png": "[encoded data removed]",
      "text/plain": [
       "<PIL.Image.Image image mode=RGB size=62x27 at 0x123A110B8>"
      ]
     },
     "execution_count": 195,
     "metadata": {},
     "output_type": "execute_result"
    }
   ],
   "source": [
    "ir_img_exp = IR_img.crop((118,58,180,85))\n",
    "ir_img_exp"
   ]
  },
  {
   "cell_type": "code",
   "execution_count": 202,
   "metadata": {
    "collapsed": false
   },
   "outputs": [
    {
     "data": {
      "text/plain": [
       "2193"
      ]
     },
     "execution_count": 202,
     "metadata": {},
     "output_type": "execute_result"
    }
   ],
   "source": [
    "ir_exp_num = pytesseract.image_to_string(ir_img_exp, config = 'nobatch digits')\n",
    "x = ir_exp_num[0:4]\n",
    "ir_slice = int(x)"
   ]
  },
  {
   "cell_type": "code",
   "execution_count": 206,
   "metadata": {
    "collapsed": false
   },
   "outputs": [],
   "source": [
    "vis_exp_num = pytesseract.image_to_string(vis_img_exp,config='nobatch digits')\n",
    "y = vis_exp_num[0:4]\n",
    "vis_slice = int(y)"
   ]
  },
  {
   "cell_type": "code",
   "execution_count": 236,
   "metadata": {
    "collapsed": false
   },
   "outputs": [
    {
     "data": {
      "text/plain": [
       "nan"
      ]
     },
     "execution_count": 236,
     "metadata": {},
     "output_type": "execute_result"
    }
   ],
   "source": [
    "camera_ndvi.mean()"
   ]
  },
  {
   "cell_type": "code",
   "execution_count": 198,
   "metadata": {
    "collapsed": false
   },
   "outputs": [
    {
     "data": {
      "text/plain": [
       "<matplotlib.collections.QuadMesh at 0x14933ed68>"
      ]
     },
     "execution_count": 198,
     "metadata": {},
     "output_type": "execute_result"
    },
    {
     "data": {
      "image/png": "[encoded data removed]",
      "text/plain": [
       "<matplotlib.figure.Figure at 0x1239f22e8>"
      ]
     },
     "metadata": {},
     "output_type": "display_data"
    }
   ],
   "source": [
    "plt.pcolormesh(camera_ndvi, cmap=plt.cm.rainbow,vmin = 1, vmax=1.25)"
   ]
  },
  {
   "cell_type": "code",
   "execution_count": null,
   "metadata": {
    "collapsed": true
   },
   "outputs": [],
   "source": []
  }
 ],
 "metadata": {
  "kernelspec": {
   "display_name": "Python 3",
   "language": "python",
   "name": "python3"
  },
  "language_info": {
   "codemirror_mode": {
    "name": "ipython",
    "version": 3
   },
   "file_extension": ".py",
   "mimetype": "text/x-python",
   "name": "python",
   "nbconvert_exporter": "python",
   "pygments_lexer": "ipython3",
   "version": "3.6.0"
  }
 },
 "nbformat": 4,
 "nbformat_minor": 2
}
