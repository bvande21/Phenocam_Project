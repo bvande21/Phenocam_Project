{
 "cells": [
  {
   "cell_type": "code",
   "execution_count": 368,
   "metadata": {
    "collapsed": true
   },
   "outputs": [],
   "source": [
    "# calculates NDVI from photo"
   ]
  },
  {
   "cell_type": "code",
   "execution_count": 369,
   "metadata": {
    "collapsed": false
   },
   "outputs": [],
   "source": [
    "%matplotlib inline\n",
    "import pandas as pd\n",
    "import xarray as xr\n",
    "import numpy as np\n",
    "import numpy.ma as ma\n",
    "import matplotlib.pyplot as plt\n",
    "from PIL import Image\n",
    "import requests\n",
    "from io import BytesIO\n",
    "import glob\n",
    "import math\n",
    "import scipy\n",
    "import sklearn\n",
    "import pytesseract \n",
    "import png"
   ]
  },
  {
   "cell_type": "code",
   "execution_count": 370,
   "metadata": {
    "collapsed": false
   },
   "outputs": [],
   "source": [
    "# import visual photo and finds all pixel values\n",
    "\n",
    "vis_photo = 'https://phenocam.sr.unh.edu/data/archive/bozeman/2017/06/bozeman_2017_06_15_154806.jpg'\n",
    "response = requests.get(vis_photo)\n",
    "VIS_img = Image.open(BytesIO(response.content))\n",
    "vis_img_exp = vis_slice\n",
    "width, height = VIS_img.size\n",
    "vis_pixel_values = list(VIS_img.getdata())\n",
    "vis_pixel_values = np.array(vis_pixel_values).reshape((width, height, 3))"
   ]
  },
  {
   "cell_type": "code",
   "execution_count": 371,
   "metadata": {
    "collapsed": false
   },
   "outputs": [],
   "source": [
    "# import IR photo and finds all pixel values\n",
    "\n",
    "ir_photo = 'https://phenocam.sr.unh.edu/data/archive/bozeman/2017/06/bozeman_IR_2017_06_15_154806.jpg'\n",
    "response = requests.get(ir_photo)\n",
    "IR_img = Image.open(BytesIO(response.content))\n",
    "IR_img_exp = ir_slice\n",
    "width, height = IR_img.size\n",
    "IR_pixel_values = list(IR_img.getdata())\n",
    "IR_pixel_values = np.array(IR_pixel_values).reshape((width, height, 3))"
   ]
  },
  {
   "cell_type": "code",
   "execution_count": 372,
   "metadata": {
    "collapsed": true
   },
   "outputs": [],
   "source": [
    "# break"
   ]
  },
  {
   "cell_type": "code",
   "execution_count": 373,
   "metadata": {
    "collapsed": false
   },
   "outputs": [],
   "source": [
    "# calculate r', blue values, green values\n",
    "\n",
    "x=0\n",
    "y=0\n",
    "width,height = VIS_img.size\n",
    "\n",
    "red_array = np.zeros((width,height))\n",
    "for x in range (width):\n",
    "    for y in range (height):\n",
    "        red_array[x,y] = vis_pixel_values[x,y,0]\n",
    "r_prime = red_array/math.sqrt(vis_slice)\n",
    "\n",
    "green_array = np.zeros((width,height))\n",
    "for x in range (width):\n",
    "    for y in range (height):\n",
    "        green_array[x,y] = vis_pixel_values[x,y,1]\n",
    "        \n",
    "blue_array = np.zeros((width,height))\n",
    "for x in range (width):\n",
    "    for y in range (height):\n",
    "        blue_array[x,y] = vis_pixel_values[x,y,2]"
   ]
  },
  {
   "cell_type": "code",
   "execution_count": 374,
   "metadata": {
    "collapsed": false
   },
   "outputs": [],
   "source": [
    "# calculating all IR values\n",
    "\n",
    "x=0\n",
    "y=0\n",
    "width,height = IR_img.size\n",
    "IR_array = np.zeros((width,height))\n",
    "for x in range (width):\n",
    "    for y in range (height):\n",
    "        IR_array[x,y] = IR_pixel_values[x,y,0]"
   ]
  },
  {
   "cell_type": "code",
   "execution_count": 375,
   "metadata": {
    "collapsed": true
   },
   "outputs": [],
   "source": [
    "# break"
   ]
  },
  {
   "cell_type": "code",
   "execution_count": 376,
   "metadata": {
    "collapsed": false
   },
   "outputs": [],
   "source": [
    "# finding x'\n",
    "\n",
    "z = (red_array + green_array + blue_array) + IR_array\n",
    "z_prime = z/math.sqrt(ir_slice)\n",
    "\n",
    "y_array = 0.30*red_array + 0.59*green_array + 0.11*blue_array\n",
    "y_prime = y_array/math.sqrt(ir_slice)\n",
    "\n",
    "x_prime = z_prime - y_prime"
   ]
  },
  {
   "cell_type": "code",
   "execution_count": 377,
   "metadata": {
    "collapsed": false
   },
   "outputs": [],
   "source": [
    "# visual image exposure as int\n",
    "\n",
    "vis_img_exp = VIS_img.crop((118, 58, 180, 85))\n",
    "vis_exp_num = pytesseract.image_to_string(vis_img_exp,config='nobatch digits')\n",
    "y = vis_exp_num[0:4]\n",
    "vis_slice = int(y)"
   ]
  },
  {
   "cell_type": "code",
   "execution_count": 381,
   "metadata": {
    "collapsed": false
   },
   "outputs": [
    {
     "data": {
      "text/plain": [
       "''"
      ]
     },
     "execution_count": 381,
     "metadata": {},
     "output_type": "execute_result"
    }
   ],
   "source": [
    "# ir image exposure as int\n",
    "\n",
    "ir_img_exp = IR_img.crop((118,58,180,85))\n",
    "ir_exp_num = pytesseract.image_to_string(ir_img_exp, config = 'nobatch digits')\n",
    "#x = ir_exp_num[0:4]\n",
    "#ir_slice = int(x)\n",
    "ir_exp_num"
   ]
  },
  {
   "cell_type": "code",
   "execution_count": null,
   "metadata": {
    "collapsed": false
   },
   "outputs": [],
   "source": [
    "# camera ndvi average\n",
    "\n",
    "np.seterr(divide='ignore', invalid='ignore')\n",
    "camera_ndvi = ((x_prime-r_prime) / (x_prime+r_prime))\n",
    "\n",
    "camera_ndvi = camera_ndvi[np.logical_not(np.isnan(camera_ndvi))]\n",
    "ndvi_mean = camera_ndvi.mean()\n",
    "vmin = ndvi_mean-0.1\n",
    "vmax = ndvi_mean+0.1"
   ]
  },
  {
   "cell_type": "code",
   "execution_count": null,
   "metadata": {
    "collapsed": false
   },
   "outputs": [],
   "source": [
    "x = plt.pcolormesh(camera_ndvi, cmap=plt.cm.rainbow,vmin, vmax)"
   ]
  },
  {
   "cell_type": "code",
   "execution_count": null,
   "metadata": {
    "collapsed": true
   },
   "outputs": [],
   "source": []
  }
 ],
 "metadata": {
  "kernelspec": {
   "display_name": "Python 3",
   "language": "python",
   "name": "python3"
  },
  "language_info": {
   "codemirror_mode": {
    "name": "ipython",
    "version": 3
   },
   "file_extension": ".py",
   "mimetype": "text/x-python",
   "name": "python",
   "nbconvert_exporter": "python",
   "pygments_lexer": "ipython3",
   "version": "3.6.0"
  }
 },
 "nbformat": 4,
 "nbformat_minor": 2
}
