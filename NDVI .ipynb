{
 "cells": [
  {
   "cell_type": "code",
   "execution_count": null,
   "metadata": {
    "collapsed": true
   },
   "outputs": [],
   "source": [
    "# calculates NDVI from photo"
   ]
  },
  {
   "cell_type": "code",
   "execution_count": 2,
   "metadata": {
    "collapsed": false
   },
   "outputs": [],
   "source": [
    "%matplotlib inline\n",
    "import pandas as pd\n",
    "import xarray as xr\n",
    "import numpy as np\n",
    "import numpy.ma as ma\n",
    "import matplotlib.pyplot as plt\n",
    "from PIL import Image\n",
    "import requests\n",
    "from io import BytesIO\n",
    "import glob\n",
    "import math\n",
    "import scipy\n",
    "import sklearn\n"
   ]
  },
  {
   "cell_type": "code",
   "execution_count": 39,
   "metadata": {
    "collapsed": false
   },
   "outputs": [],
   "source": [
    "# shows visual photo\n",
    "\n",
    "vis_photo = 'https://phenocam.sr.unh.edu/data/archive/bozeman/2017/06/bozeman_2017_06_08_184805.jpg'\n",
    "response = requests.get(vis_photo)\n",
    "VIS_img = Image.open(BytesIO(response.content))\n",
    "VIS_img_exp = 159"
   ]
  },
  {
   "cell_type": "code",
   "execution_count": 40,
   "metadata": {
    "collapsed": false
   },
   "outputs": [],
   "source": [
    "# finds all pixel values for visual image\n",
    "\n",
    "width, height = VIS_img.size\n",
    "vis_pixel_values = list(VIS_img.getdata())\n",
    "vis_pixel_values = np.array(vis_pixel_values).reshape((width, height, 3))"
   ]
  },
  {
   "cell_type": "code",
   "execution_count": 26,
   "metadata": {
    "collapsed": false
   },
   "outputs": [],
   "source": [
    "# IR photo\n",
    "\n",
    "ir_photo = 'https://phenocam.sr.unh.edu/data/archive/bozeman/2017/06/bozeman_IR_2017_06_08_201805.jpg'\n",
    "response = requests.get(ir_photo)\n",
    "IR_img = Image.open(BytesIO(response.content))\n",
    "IR_img_exp = 2193"
   ]
  },
  {
   "cell_type": "code",
   "execution_count": 41,
   "metadata": {
    "collapsed": false
   },
   "outputs": [],
   "source": [
    "# finds all pixel values for IR image\n",
    "\n",
    "width, height = IR_img.size\n",
    "IR_pixel_values = list(IR_img.getdata())\n",
    "IR_pixel_values = np.array(IR_pixel_values).reshape((width, height, 3))\n"
   ]
  },
  {
   "cell_type": "code",
   "execution_count": null,
   "metadata": {
    "collapsed": true
   },
   "outputs": [],
   "source": []
  },
  {
   "cell_type": "code",
   "execution_count": 50,
   "metadata": {
    "collapsed": false
   },
   "outputs": [],
   "source": [
    "# calculating all red values \n",
    "\n",
    "x=0\n",
    "y=0\n",
    "width,height = VIS_img.size\n",
    "red_array = np.zeros((width,height))\n",
    "for x in range (width):\n",
    "    for y in range (height):\n",
    "        red_array[x,y] = vis_pixel_values[x,y,0]"
   ]
  },
  {
   "cell_type": "code",
   "execution_count": 45,
   "metadata": {
    "collapsed": false
   },
   "outputs": [],
   "source": [
    "# finding r'\n",
    "\n",
    "r_prime = red_array/math.sqrt(VIS_img_exp)"
   ]
  },
  {
   "cell_type": "code",
   "execution_count": 51,
   "metadata": {
    "collapsed": false
   },
   "outputs": [],
   "source": [
    "# calculating all green values \n",
    "\n",
    "x=0\n",
    "y=0\n",
    "width,height = VIS_img.size\n",
    "green_array = np.zeros((width,height))\n",
    "for x in range (width):\n",
    "    for y in range (height):\n",
    "        green_array[x,y] = vis_pixel_values[x,y,1]"
   ]
  },
  {
   "cell_type": "code",
   "execution_count": 55,
   "metadata": {
    "collapsed": false
   },
   "outputs": [],
   "source": [
    "# calculating all blue values\n",
    "\n",
    "x=0\n",
    "y=0\n",
    "width,height = VIS_img.size\n",
    "blue_array = np.zeros((width,height))\n",
    "for x in range (width):\n",
    "    for y in range (height):\n",
    "        blue_array[x,y] = vis_pixel_values[x,y,2]"
   ]
  },
  {
   "cell_type": "code",
   "execution_count": 62,
   "metadata": {
    "collapsed": false
   },
   "outputs": [],
   "source": [
    "# calculating all IR values\n",
    "\n",
    "x=0\n",
    "y=0\n",
    "width,height = IR_img.size\n",
    "IR_array = np.zeros((width,height))\n",
    "for x in range (width):\n",
    "    for y in range (height):\n",
    "        IR_array[x,y] = IR_pixel_values[x,y,0]"
   ]
  },
  {
   "cell_type": "code",
   "execution_count": null,
   "metadata": {
    "collapsed": true
   },
   "outputs": [],
   "source": []
  },
  {
   "cell_type": "code",
   "execution_count": 64,
   "metadata": {
    "collapsed": false
   },
   "outputs": [],
   "source": [
    "# finding z'\n",
    "\n",
    "z = (red_array + green_array + blue_array) + IR_array\n",
    "\n",
    "z_prime = z/math.sqrt(IR_img_exp)"
   ]
  },
  {
   "cell_type": "code",
   "execution_count": 71,
   "metadata": {
    "collapsed": false
   },
   "outputs": [],
   "source": [
    "# finding y'\n",
    "\n",
    "y_array = 0.30*red_array + 0.59*green_array + 0.11*blue_array\n",
    "y_prime = y_array/math.sqrt(IR_img_exp)"
   ]
  },
  {
   "cell_type": "code",
   "execution_count": 72,
   "metadata": {
    "collapsed": false
   },
   "outputs": [],
   "source": [
    "# finding x'   X′ = Z′ −Y′   z'=z/sqrt(exposure of RGB+IR)\n",
    "\n",
    "x_prime = z_prime - y_prime"
   ]
  },
  {
   "cell_type": "code",
   "execution_count": 73,
   "metadata": {
    "collapsed": false
   },
   "outputs": [
    {
     "name": "stderr",
     "output_type": "stream",
     "text": [
      "/Users/BillVandenberg/anaconda/lib/python3.6/site-packages/ipykernel/__main__.py:3: RuntimeWarning: invalid value encountered in true_divide\n",
      "  app.launch_new_instance()\n"
     ]
    }
   ],
   "source": [
    "# camera NDVI\n",
    "\n",
    "camera_ndvi = ((x_prime - r_prime)/(x_prime + r_prime))"
   ]
  },
  {
   "cell_type": "code",
   "execution_count": null,
   "metadata": {
    "collapsed": true
   },
   "outputs": [],
   "source": []
  }
 ],
 "metadata": {
  "kernelspec": {
   "display_name": "Python 3",
   "language": "python",
   "name": "python3"
  },
  "language_info": {
   "codemirror_mode": {
    "name": "ipython",
    "version": 3
   },
   "file_extension": ".py",
   "mimetype": "text/x-python",
   "name": "python",
   "nbconvert_exporter": "python",
   "pygments_lexer": "ipython3",
   "version": "3.6.0"
  }
 },
 "nbformat": 4,
 "nbformat_minor": 2
}
