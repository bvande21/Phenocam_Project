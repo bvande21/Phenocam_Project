{
 "cells": [
  {
   "cell_type": "code",
   "execution_count": 388,
   "metadata": {
    "collapsed": true
   },
   "outputs": [],
   "source": [
    "# put all RGB values into a 2D array \n",
    "# loop through array?\n",
    "# use array to create map of greenness, snow, or whatever Paul wants\n",
    "# use im.getdata?"
   ]
  },
  {
   "cell_type": "code",
   "execution_count": 482,
   "metadata": {
    "collapsed": false
   },
   "outputs": [],
   "source": [
    "%matplotlib inline\n",
    "import pandas as pd\n",
    "import xarray as xr\n",
    "import numpy as np\n",
    "import numpy.ma as ma\n",
    "import matplotlib.pyplot as plt\n",
    "from PIL import Image\n",
    "import requests\n",
    "from io import BytesIO\n",
    "import glob"
   ]
  },
  {
   "cell_type": "code",
   "execution_count": 510,
   "metadata": {
    "collapsed": false
   },
   "outputs": [],
   "source": [
    "# shows IR photo\n",
    "\n",
    "ir_test_photo = 'https://phenocam.sr.unh.edu/data/archive/bozeman/2017/06/bozeman_IR_2017_06_05_184805.jpg'\n",
    "response = requests.get(ir_test_photo)\n",
    "IR_img = Image.open(BytesIO(response.content))\n",
    "#IR_img"
   ]
  },
  {
   "cell_type": "code",
   "execution_count": 511,
   "metadata": {
    "collapsed": false
   },
   "outputs": [
    {
     "data": {
      "text/plain": [
       "[[], [], [], []]"
      ]
     },
     "execution_count": 511,
     "metadata": {},
     "output_type": "execute_result"
    }
   ],
   "source": [
    "photos"
   ]
  },
  {
   "cell_type": "code",
   "execution_count": 512,
   "metadata": {
    "collapsed": false
   },
   "outputs": [],
   "source": [
    "photo = requests.get('https://phenocam.sr.unh.edu/data/archive/bozeman/2017/06/')"
   ]
  },
  {
   "cell_type": "code",
   "execution_count": 513,
   "metadata": {
    "collapsed": false
   },
   "outputs": [
    {
     "data": {
      "text/plain": [
       "<Response [403]>"
      ]
     },
     "execution_count": 513,
     "metadata": {},
     "output_type": "execute_result"
    }
   ],
   "source": [
    "photo"
   ]
  },
  {
   "cell_type": "code",
   "execution_count": 517,
   "metadata": {
    "collapsed": false
   },
   "outputs": [],
   "source": [
    "# crops photo\n",
    "\n",
    "width = IR_img.size[0]\n",
    "height = IR_img.size[1]\n",
    "chop_IR_img = IR_img.crop(\n",
    "    (\n",
    "        width - 1296,\n",
    "        height - 425,\n",
    "        width,\n",
    "        height\n",
    "    )\n",
    ")\n",
    "#chop_IR_img"
   ]
  },
  {
   "cell_type": "code",
   "execution_count": 628,
   "metadata": {
    "collapsed": false
   },
   "outputs": [],
   "source": [
    "# finds all pixel values for IR image\n",
    "\n",
    "width, height = chop_IR_img.size\n",
    "IR_pixel_values = list(chop_IR_img.getdata())\n",
    "IR_pixel_values = numpy.array(IR_pixel_values).reshape((width, height, 3))"
   ]
  },
  {
   "cell_type": "code",
   "execution_count": 423,
   "metadata": {
    "collapsed": false
   },
   "outputs": [],
   "source": [
    "# averages all IR pixel data (returns a single number)\n",
    "\n",
    "x = (np.average(IR_pixel_values, axis=0))\n",
    "y = np.average(x, axis=0)\n",
    "IR_ave = np.average(y, axis=0)"
   ]
  },
  {
   "cell_type": "code",
   "execution_count": 626,
   "metadata": {
    "collapsed": false
   },
   "outputs": [],
   "source": [
    "#break"
   ]
  },
  {
   "cell_type": "code",
   "execution_count": 612,
   "metadata": {
    "collapsed": false,
    "scrolled": true
   },
   "outputs": [],
   "source": [
    "# shows visual photo\n",
    "\n",
    "vis_test_photo = 'https://phenocam.sr.unh.edu/data/archive/bozeman/2017/06/bozeman_2017_06_04_164805.jpg'\n",
    "response = requests.get(vis_test_photo)\n",
    "VIS_img = Image.open(BytesIO(response.content))\n",
    "#VIS_img"
   ]
  },
  {
   "cell_type": "code",
   "execution_count": 635,
   "metadata": {
    "collapsed": false
   },
   "outputs": [],
   "source": [
    "# crops photo\n",
    "\n",
    "width = VIS_img.size[0]\n",
    "height = VIS_img.size[1]\n",
    "chop_vis_img = VIS_img.crop(\n",
    "    (\n",
    "        width - 1296,\n",
    "        height - 425,\n",
    "        width,\n",
    "        height\n",
    "    )\n",
    ")\n",
    "#chop_vis_img"
   ]
  },
  {
   "cell_type": "code",
   "execution_count": 614,
   "metadata": {
    "collapsed": false
   },
   "outputs": [],
   "source": [
    "# finds all pixel values for visual image\n",
    "\n",
    "width, height = chop_vis_img.size\n",
    "vis_pixel_values = list(chop_vis_img.getdata())\n",
    "vis_pixel_values = numpy.array(vis_pixel_values).reshape((width, height, 3))\n",
    "#vis_pixel_values"
   ]
  },
  {
   "cell_type": "code",
   "execution_count": 615,
   "metadata": {
    "collapsed": false
   },
   "outputs": [
    {
     "data": {
      "text/plain": [
       "122.79428467683366"
      ]
     },
     "execution_count": 615,
     "metadata": {},
     "output_type": "execute_result"
    }
   ],
   "source": [
    "# averages all visual pixel data (returns red average)\n",
    "x = (np.average(vis_pixel_values, axis=0))\n",
    "r_ave = np.average(x, axis=0)\n",
    "red_ave = r_ave.item(0)\n",
    "red_ave"
   ]
  },
  {
   "cell_type": "code",
   "execution_count": 616,
   "metadata": {
    "collapsed": false
   },
   "outputs": [
    {
     "data": {
      "text/plain": [
       "174.9827450980392"
      ]
     },
     "execution_count": 616,
     "metadata": {},
     "output_type": "execute_result"
    }
   ],
   "source": [
    "# averages all visual pixel data (returns green average)\n",
    "\n",
    "x = (np.average(vis_pixel_values, axis=1))\n",
    "g_ave = np.average(x, axis=1)\n",
    "green_ave = g_ave.item(1)\n",
    "green_ave"
   ]
  },
  {
   "cell_type": "code",
   "execution_count": 617,
   "metadata": {
    "collapsed": false
   },
   "outputs": [
    {
     "data": {
      "text/plain": [
       "166.26039215686276"
      ]
     },
     "execution_count": 617,
     "metadata": {},
     "output_type": "execute_result"
    }
   ],
   "source": [
    "# averages all viusal pixel data (returns blue average)\n",
    "\n",
    "x = (np.average(vis_pixel_values, axis = 2))\n",
    "b_ave = np.average(x, axis = 1)\n",
    "blue_ave = b_ave.item(2)\n",
    "blue_ave"
   ]
  },
  {
   "cell_type": "code",
   "execution_count": 618,
   "metadata": {
    "collapsed": true
   },
   "outputs": [],
   "source": [
    "#break"
   ]
  },
  {
   "cell_type": "code",
   "execution_count": 638,
   "metadata": {
    "collapsed": false
   },
   "outputs": [],
   "source": [
    "# calculates average NDVI?\n",
    "\n",
    "ndvi = (IR_ave - red_ave)/(IR_ave + red_ave)\n"
   ]
  },
  {
   "cell_type": "code",
   "execution_count": 637,
   "metadata": {
    "collapsed": false
   },
   "outputs": [],
   "source": [
    "# calculates green chromatic coodinate\n",
    "\n",
    "gcc = green_ave/(red_ave+blue_ave+green_ave)"
   ]
  },
  {
   "cell_type": "code",
   "execution_count": 636,
   "metadata": {
    "collapsed": false,
    "scrolled": true
   },
   "outputs": [],
   "source": [
    "# calculates excess green\n",
    "\n",
    "eg = 2*green_ave-(red_ave+blue_ave)"
   ]
  },
  {
   "cell_type": "code",
   "execution_count": 644,
   "metadata": {
    "collapsed": false
   },
   "outputs": [],
   "source": [
    "# ndvi calc using harvard paper\n",
    "\n",
    "width,height = VIS_img.size\n",
    "for x in range (width):\n",
    "    for y in range (height):\n",
    "        r,g,b = IR_pixel_values, r_ave, g_ave\n"
   ]
  },
  {
   "cell_type": "code",
   "execution_count": 646,
   "metadata": {
    "collapsed": false
   },
   "outputs": [],
   "source": []
  }
 ],
 "metadata": {
  "kernelspec": {
   "display_name": "Python 3",
   "language": "python",
   "name": "python3"
  },
  "language_info": {
   "codemirror_mode": {
    "name": "ipython",
    "version": 3
   },
   "file_extension": ".py",
   "mimetype": "text/x-python",
   "name": "python",
   "nbconvert_exporter": "python",
   "pygments_lexer": "ipython3",
   "version": "3.6.0"
  }
 },
 "nbformat": 4,
 "nbformat_minor": 2
}
