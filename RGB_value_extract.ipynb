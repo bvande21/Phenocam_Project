{
 "cells": [
  {
   "cell_type": "code",
   "execution_count": 334,
   "metadata": {
    "collapsed": true
   },
   "outputs": [],
   "source": [
    "# put all RGB values into a 2D array \n",
    "# loop through array?\n",
    "# use array to create map of greenness, snow, or whatever Paul wants\n",
    "# use im.getdata?"
   ]
  },
  {
   "cell_type": "code",
   "execution_count": 335,
   "metadata": {
    "collapsed": false
   },
   "outputs": [],
   "source": [
    "%matplotlib inline\n",
    "import pandas as pd\n",
    "import xarray as xr\n",
    "import numpy as np\n",
    "import numpy.ma as ma\n",
    "import matplotlib.pyplot as plt\n",
    "from PIL import Image\n",
    "import requests\n",
    "from io import BytesIO"
   ]
  },
  {
   "cell_type": "code",
   "execution_count": 336,
   "metadata": {
    "collapsed": false
   },
   "outputs": [],
   "source": [
    "# shows IR photo\n",
    "\n",
    "ir_test_photo = 'https://phenocam.sr.unh.edu/data/archive/bozeman/2017/06/bozeman_IR_2017_06_05_184805.jpg'\n",
    "response = requests.get(ir_test_photo)\n",
    "IR_img = Image.open(BytesIO(response.content))\n",
    "#IR_img"
   ]
  },
  {
   "cell_type": "code",
   "execution_count": 337,
   "metadata": {
    "collapsed": false
   },
   "outputs": [],
   "source": [
    "# shows visual photo\n",
    "\n",
    "vis_test_photo = 'https://phenocam.sr.unh.edu/data/archive/bozeman/2017/06/bozeman_2017_06_04_164805.jpg'\n",
    "response = requests.get(vis_test_photo)\n",
    "VIS_img = Image.open(BytesIO(response.content))\n",
    "#VIS_img"
   ]
  },
  {
   "cell_type": "code",
   "execution_count": 338,
   "metadata": {
    "collapsed": false,
    "scrolled": true
   },
   "outputs": [],
   "source": [
    "# crops photo\n",
    "width = IR_img.size[0]\n",
    "height = IR_img.size[1]\n",
    "chop_IR_img = IR_img.crop(\n",
    "    (\n",
    "        width - 1296,\n",
    "        height - 425,\n",
    "        width,\n",
    "        height\n",
    "    )\n",
    ")\n",
    "#chop_IR_img"
   ]
  },
  {
   "cell_type": "code",
   "execution_count": 339,
   "metadata": {
    "collapsed": false
   },
   "outputs": [],
   "source": [
    "# crops photo\n",
    "width = VIS_img.size[0]\n",
    "height = VIS_img.size[1]\n",
    "chop_vis_img = VIS_img.crop(\n",
    "    (\n",
    "        width - 1296,\n",
    "        height - 425,\n",
    "        width,\n",
    "        height\n",
    "    )\n",
    ")\n",
    "#chop_vis_img"
   ]
  },
  {
   "cell_type": "code",
   "execution_count": 340,
   "metadata": {
    "collapsed": true
   },
   "outputs": [],
   "source": [
    "# finds all pixel values for IR image\n",
    "width, height = chop_IR_img.size\n",
    "IR_pixel_values = list(chop_IR_img.getdata())\n",
    "IR_pixel_values = numpy.array(IR_pixel_values).reshape((width, height, 3))"
   ]
  },
  {
   "cell_type": "code",
   "execution_count": 341,
   "metadata": {
    "collapsed": false
   },
   "outputs": [],
   "source": [
    "# finds all pixel values for visual image\n",
    "width, height = chop_vis_img.size\n",
    "vis_pixel_values = list(chop_vis_img.getdata())\n",
    "vis_pixel_values = numpy.array(vis_pixel_values).reshape((width, height, 3))"
   ]
  },
  {
   "cell_type": "code",
   "execution_count": 342,
   "metadata": {
    "collapsed": false
   },
   "outputs": [
    {
     "data": {
      "text/plain": [
       "array([ 99.08728577,  99.08728577,  99.08728577])"
      ]
     },
     "execution_count": 342,
     "metadata": {},
     "output_type": "execute_result"
    }
   ],
   "source": [
    "# averages all IR pixel data\n",
    "x = (np.average(IR_pixel_values, axis=0))\n",
    "np.average(x, axis=0)"
   ]
  },
  {
   "cell_type": "code",
   "execution_count": 343,
   "metadata": {
    "collapsed": false
   },
   "outputs": [
    {
     "data": {
      "text/plain": [
       "array([ 122.79428468,  107.80559913,   77.34665033])"
      ]
     },
     "execution_count": 343,
     "metadata": {},
     "output_type": "execute_result"
    }
   ],
   "source": [
    "# averages all visual pixel data\n",
    "x = (np.average(vis_pixel_values, axis=0))\n",
    "np.average(x, axis=0)"
   ]
  },
  {
   "cell_type": "code",
   "execution_count": null,
   "metadata": {
    "collapsed": false
   },
   "outputs": [],
   "source": []
  },
  {
   "cell_type": "code",
   "execution_count": null,
   "metadata": {
    "collapsed": true
   },
   "outputs": [],
   "source": [
    "# import all photos\n",
    "# takes RGB values from each photo (this should be a loop)\n",
    "# figure out how to put all values in an array"
   ]
  }
 ],
 "metadata": {
  "kernelspec": {
   "display_name": "Python 3",
   "language": "python",
   "name": "python3"
  },
  "language_info": {
   "codemirror_mode": {
    "name": "ipython",
    "version": 3
   },
   "file_extension": ".py",
   "mimetype": "text/x-python",
   "name": "python",
   "nbconvert_exporter": "python",
   "pygments_lexer": "ipython3",
   "version": "3.6.0"
  }
 },
 "nbformat": 4,
 "nbformat_minor": 2
}
